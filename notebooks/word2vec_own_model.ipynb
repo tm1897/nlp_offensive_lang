{
 "cells": [
  {
   "cell_type": "markdown",
   "metadata": {},
   "source": [
    "## Word2Vec model "
   ]
  },
  {
   "cell_type": "markdown",
   "metadata": {},
   "source": [
    "**In this notebook, we train our own word2vec model on one of the Twitter datasets we found.**"
   ]
  },
  {
   "cell_type": "code",
   "execution_count": 1,
   "metadata": {},
   "outputs": [],
   "source": [
    "# Importing libraries\n",
    "import tempfile\n",
    "import re\n",
    "import pandas as pd\n",
    "import nltk\n",
    "import gensim\n",
    "import gensim.models\n",
    "from sklearn.manifold import TSNE\n",
    "import numpy as np\n",
    "from statistics import mean\n",
    "import matplotlib.patheffects as PathEffects\n",
    "import matplotlib.pyplot as plt\n",
    "import matplotlib.cm as cm\n",
    "%matplotlib inline"
   ]
  },
  {
   "cell_type": "code",
   "execution_count": 2,
   "metadata": {},
   "outputs": [],
   "source": [
    "# Function for tokenization of sentences\n",
    "def tokenize(text):\n",
    "    # First tokenize by sentence, then by word to ensure that punctuation is caught as it's own token.\n",
    "    tokens = [word.lower() for sent in nltk.sent_tokenize(text) for word in nltk.word_tokenize(sent)]\n",
    "    filtered_tokens = []\n",
    "    # Filter out any tokens not containing letters (e.g., numeric tokens, raw punctuation).\n",
    "    for token in tokens:\n",
    "        if re.search('[a-zA-Z]', token):\n",
    "            filtered_tokens.append(token)\n",
    "    return filtered_tokens"
   ]
  },
  {
   "cell_type": "code",
   "execution_count": 3,
   "metadata": {},
   "outputs": [],
   "source": [
    "def save_model(model):\n",
    "    with tempfile.NamedTemporaryFile(prefix='gensim-model-', delete=False) as tmp:\n",
    "        temporary_filepath = tmp.name\n",
    "        print(f'Path to your model is: {temporary_filepath}')\n",
    "        model.save(temporary_filepath)"
   ]
  },
  {
   "cell_type": "code",
   "execution_count": 4,
   "metadata": {},
   "outputs": [],
   "source": [
    "# We read an already cleaned twitter dataset\n",
    "twitter_df = pd.read_excel('twitter_mutlimodal_hate_speech.xlsx')"
   ]
  },
  {
   "cell_type": "code",
   "execution_count": 5,
   "metadata": {},
   "outputs": [
    {
     "data": {
      "text/html": [
       "<div>\n",
       "<style scoped>\n",
       "    .dataframe tbody tr th:only-of-type {\n",
       "        vertical-align: middle;\n",
       "    }\n",
       "\n",
       "    .dataframe tbody tr th {\n",
       "        vertical-align: top;\n",
       "    }\n",
       "\n",
       "    .dataframe thead th {\n",
       "        text-align: right;\n",
       "    }\n",
       "</style>\n",
       "<table border=\"1\" class=\"dataframe\">\n",
       "  <thead>\n",
       "    <tr style=\"text-align: right;\">\n",
       "      <th></th>\n",
       "      <th>text</th>\n",
       "      <th>Homophobe</th>\n",
       "      <th>NotHate</th>\n",
       "      <th>OtherHate</th>\n",
       "      <th>Racist</th>\n",
       "      <th>Religion</th>\n",
       "      <th>Sexist</th>\n",
       "    </tr>\n",
       "  </thead>\n",
       "  <tbody>\n",
       "    <tr>\n",
       "      <th>0</th>\n",
       "      <td>Nigga</td>\n",
       "      <td>True</td>\n",
       "      <td>False</td>\n",
       "      <td>False</td>\n",
       "      <td>True</td>\n",
       "      <td>True</td>\n",
       "      <td>False</td>\n",
       "    </tr>\n",
       "    <tr>\n",
       "      <th>1</th>\n",
       "      <td>horses are retarded</td>\n",
       "      <td>False</td>\n",
       "      <td>False</td>\n",
       "      <td>True</td>\n",
       "      <td>False</td>\n",
       "      <td>False</td>\n",
       "      <td>False</td>\n",
       "    </tr>\n",
       "    <tr>\n",
       "      <th>2</th>\n",
       "      <td>“NIGGA   MOMMA YOUNGBOY  SPITTING REAL SHIT NI...</td>\n",
       "      <td>False</td>\n",
       "      <td>True</td>\n",
       "      <td>False</td>\n",
       "      <td>False</td>\n",
       "      <td>False</td>\n",
       "      <td>False</td>\n",
       "    </tr>\n",
       "    <tr>\n",
       "      <th>3</th>\n",
       "      <td>xxSuGVNGxx:  ran into this HOLY NIGGA TODAY 😭...</td>\n",
       "      <td>False</td>\n",
       "      <td>True</td>\n",
       "      <td>False</td>\n",
       "      <td>True</td>\n",
       "      <td>False</td>\n",
       "      <td>False</td>\n",
       "    </tr>\n",
       "    <tr>\n",
       "      <th>4</th>\n",
       "      <td>“EVERYbody calling you Nigger now!”</td>\n",
       "      <td>False</td>\n",
       "      <td>True</td>\n",
       "      <td>False</td>\n",
       "      <td>True</td>\n",
       "      <td>False</td>\n",
       "      <td>False</td>\n",
       "    </tr>\n",
       "    <tr>\n",
       "      <th>...</th>\n",
       "      <td>...</td>\n",
       "      <td>...</td>\n",
       "      <td>...</td>\n",
       "      <td>...</td>\n",
       "      <td>...</td>\n",
       "      <td>...</td>\n",
       "      <td>...</td>\n",
       "    </tr>\n",
       "    <tr>\n",
       "      <th>149818</th>\n",
       "      <td>would just say hes Donny the retard</td>\n",
       "      <td>False</td>\n",
       "      <td>True</td>\n",
       "      <td>True</td>\n",
       "      <td>False</td>\n",
       "      <td>False</td>\n",
       "      <td>True</td>\n",
       "    </tr>\n",
       "    <tr>\n",
       "      <th>149819</th>\n",
       "      <td>congrats  nigga keep  grinding</td>\n",
       "      <td>False</td>\n",
       "      <td>True</td>\n",
       "      <td>False</td>\n",
       "      <td>False</td>\n",
       "      <td>False</td>\n",
       "      <td>False</td>\n",
       "    </tr>\n",
       "    <tr>\n",
       "      <th>149820</th>\n",
       "      <td>nigga big shitty</td>\n",
       "      <td>False</td>\n",
       "      <td>True</td>\n",
       "      <td>False</td>\n",
       "      <td>True</td>\n",
       "      <td>False</td>\n",
       "      <td>False</td>\n",
       "    </tr>\n",
       "    <tr>\n",
       "      <th>149821</th>\n",
       "      <td>did she just say “ nigga”  Rich? &amp;amp; she sai...</td>\n",
       "      <td>False</td>\n",
       "      <td>True</td>\n",
       "      <td>False</td>\n",
       "      <td>True</td>\n",
       "      <td>False</td>\n",
       "      <td>False</td>\n",
       "    </tr>\n",
       "    <tr>\n",
       "      <th>149822</th>\n",
       "      <td>This nigga Joe Budden said thanos got  galacti...</td>\n",
       "      <td>True</td>\n",
       "      <td>True</td>\n",
       "      <td>False</td>\n",
       "      <td>False</td>\n",
       "      <td>False</td>\n",
       "      <td>False</td>\n",
       "    </tr>\n",
       "  </tbody>\n",
       "</table>\n",
       "<p>149823 rows × 7 columns</p>\n",
       "</div>"
      ],
      "text/plain": [
       "                                                     text  Homophobe  NotHate  \\\n",
       "0                                                  Nigga        True    False   \n",
       "1                                    horses are retarded       False    False   \n",
       "2       “NIGGA   MOMMA YOUNGBOY  SPITTING REAL SHIT NI...      False     True   \n",
       "3        xxSuGVNGxx:  ran into this HOLY NIGGA TODAY 😭...      False     True   \n",
       "4                    “EVERYbody calling you Nigger now!”       False     True   \n",
       "...                                                   ...        ...      ...   \n",
       "149818               would just say hes Donny the retard       False     True   \n",
       "149819                    congrats  nigga keep  grinding       False     True   \n",
       "149820                                  nigga big shitty       False     True   \n",
       "149821  did she just say “ nigga”  Rich? &amp; she sai...      False     True   \n",
       "149822  This nigga Joe Budden said thanos got  galacti...       True     True   \n",
       "\n",
       "        OtherHate  Racist  Religion  Sexist  \n",
       "0           False    True      True   False  \n",
       "1            True   False     False   False  \n",
       "2           False   False     False   False  \n",
       "3           False    True     False   False  \n",
       "4           False    True     False   False  \n",
       "...           ...     ...       ...     ...  \n",
       "149818       True   False     False    True  \n",
       "149819      False   False     False   False  \n",
       "149820      False    True     False   False  \n",
       "149821      False    True     False   False  \n",
       "149822      False   False     False   False  \n",
       "\n",
       "[149823 rows x 7 columns]"
      ]
     },
     "execution_count": 5,
     "metadata": {},
     "output_type": "execute_result"
    }
   ],
   "source": [
    "twitter_df.drop(columns='Unnamed: 0')"
   ]
  },
  {
   "cell_type": "code",
   "execution_count": 6,
   "metadata": {
    "scrolled": true
   },
   "outputs": [
    {
     "data": {
      "text/plain": [
       "[' Nigga ',\n",
       " ' horses are retarded ',\n",
       " '“NIGGA   MOMMA YOUNGBOY  SPITTING REAL SHIT NIGGA” ',\n",
       " ' xxSuGVNGxx:  ran into this HOLY NIGGA TODAY 😭😭😭😭 ',\n",
       " '“EVERYbody calling you Nigger now!” ']"
      ]
     },
     "execution_count": 6,
     "metadata": {},
     "output_type": "execute_result"
    }
   ],
   "source": [
    "tweets = twitter_df[\"text\"].tolist()\n",
    "tweets[: 5]"
   ]
  },
  {
   "cell_type": "code",
   "execution_count": 7,
   "metadata": {},
   "outputs": [
    {
     "name": "stderr",
     "output_type": "stream",
     "text": [
      "[nltk_data] Downloading package punkt to\n",
      "[nltk_data]     C:\\Users\\User\\AppData\\Roaming\\nltk_data...\n",
      "[nltk_data]   Package punkt is already up-to-date!\n"
     ]
    },
    {
     "data": {
      "text/plain": [
       "True"
      ]
     },
     "execution_count": 7,
     "metadata": {},
     "output_type": "execute_result"
    }
   ],
   "source": [
    "nltk.download('punkt')"
   ]
  },
  {
   "cell_type": "code",
   "execution_count": 8,
   "metadata": {
    "scrolled": true
   },
   "outputs": [
    {
     "data": {
      "text/plain": [
       "[['nigga'],\n",
       " ['horses', 'are', 'retarded'],\n",
       " ['nigga', 'momma', 'youngboy', 'spitting', 'real', 'shit', 'nigga'],\n",
       " ['xxsugvngxx', 'ran', 'into', 'this', 'holy', 'nigga', 'today'],\n",
       " ['everybody', 'calling', 'you', 'nigger', 'now']]"
      ]
     },
     "execution_count": 8,
     "metadata": {},
     "output_type": "execute_result"
    }
   ],
   "source": [
    "# We do tokenization on every tweet in our dataset\n",
    "tokenized_tweets = []\n",
    "for tweet in tweets:\n",
    "    tokenized_tweets.append(tokenize(tweet))\n",
    "tokenized_tweets[: 5]"
   ]
  },
  {
   "cell_type": "code",
   "execution_count": 57,
   "metadata": {},
   "outputs": [],
   "source": [
    "# Here we have an embdedding size of 100. We tried with smaller sizes to see if that might help with our small (at least for \n",
    "# word2vec training purposes) dataset, however we didn't get better results. Also, different window sizes we tested, but this\n",
    "# current parameter setting provided the most reasonable results.\n",
    "\n",
    "# This command is run only once, later you just skip to loading of the generated model\n",
    "model = gensim.models.Word2Vec(sentences=tokenized_tweets, min_count=3, workers=4) "
   ]
  },
  {
   "cell_type": "code",
   "execution_count": 58,
   "metadata": {},
   "outputs": [
    {
     "name": "stdout",
     "output_type": "stream",
     "text": [
      "Path to your model is: C:\\Users\\User\\AppData\\Local\\Temp\\gensim-model-tus71v9k\n"
     ]
    }
   ],
   "source": [
    "save_model(model)"
   ]
  },
  {
   "cell_type": "code",
   "execution_count": 59,
   "metadata": {},
   "outputs": [],
   "source": [
    "# Copy path for saved model outputed in cell above\n",
    "model = gensim.models.Word2Vec.load('C:\\\\Users\\\\User\\\\AppData\\\\Local\\\\Temp\\\\gensim-model-tus71v9k')"
   ]
  },
  {
   "cell_type": "code",
   "execution_count": 60,
   "metadata": {},
   "outputs": [],
   "source": [
    "# Becuse we have a smaller dataset, we focus on the 10 most similar words to a particular term\n",
    "TOP_N = 10\n",
    "KEYS = { \\\n",
    "    \"homophobe\": set(), \n",
    "    \"racist\": set(), \n",
    "    \"religion\": set(), \n",
    "    \"sexist\": set(), \n",
    "    \"hateful\": set()\n",
    "}\n",
    "FIXED_KEYS = list(KEYS.keys())"
   ]
  },
  {
   "cell_type": "code",
   "execution_count": 69,
   "metadata": {},
   "outputs": [],
   "source": [
    "# Function to get 10 most similar words to our specified terms\n",
    "# No ommision of similar words is done, again because of the dataset size, but as it can be seen in the dataframe with most \n",
    "# similar words below, this is not a problem.\n",
    "def get_similar_words(model):\n",
    "    embedding_clusters = []\n",
    "    word_clusters = []\n",
    "    for key in FIXED_KEYS:\n",
    "        embeddings = []\n",
    "        words = []\n",
    "        for similar_word, _ in model.wv.most_similar(key, topn=TOP_N):\n",
    "            words.append(similar_word)\n",
    "            embeddings.append(model.wv[similar_word])\n",
    "                \n",
    "        if len(words) < TOP_N or len(embeddings) < TOP_N:\n",
    "            print(\"ERROR\")\n",
    "            \n",
    "        words = words[:TOP_N]\n",
    "        embeddings = embeddings[:TOP_N]\n",
    "        \n",
    "        embedding_clusters.append(embeddings)\n",
    "        word_clusters.append(words)\n",
    "        \n",
    "    return (word_clusters, embedding_clusters)"
   ]
  },
  {
   "cell_type": "code",
   "execution_count": 70,
   "metadata": {},
   "outputs": [],
   "source": [
    "def display_df(word_clusters):\n",
    "    df = pd.DataFrame(dict(zip(FIXED_KEYS, word_clusters)))  \n",
    "    display(df)\n",
    "    return df"
   ]
  },
  {
   "cell_type": "code",
   "execution_count": 63,
   "metadata": {},
   "outputs": [],
   "source": [
    "word_clusters, embedding_clusters = get_similar_words(model)"
   ]
  },
  {
   "cell_type": "code",
   "execution_count": 64,
   "metadata": {},
   "outputs": [
    {
     "data": {
      "text/html": [
       "<div>\n",
       "<style scoped>\n",
       "    .dataframe tbody tr th:only-of-type {\n",
       "        vertical-align: middle;\n",
       "    }\n",
       "\n",
       "    .dataframe tbody tr th {\n",
       "        vertical-align: top;\n",
       "    }\n",
       "\n",
       "    .dataframe thead th {\n",
       "        text-align: right;\n",
       "    }\n",
       "</style>\n",
       "<table border=\"1\" class=\"dataframe\">\n",
       "  <thead>\n",
       "    <tr style=\"text-align: right;\">\n",
       "      <th></th>\n",
       "      <th>homophobe</th>\n",
       "      <th>racist</th>\n",
       "      <th>religion</th>\n",
       "      <th>sexist</th>\n",
       "      <th>hateful</th>\n",
       "    </tr>\n",
       "  </thead>\n",
       "  <tbody>\n",
       "    <tr>\n",
       "      <th>0</th>\n",
       "      <td>informed</td>\n",
       "      <td>ignorant</td>\n",
       "      <td>securi̇ty</td>\n",
       "      <td>builder</td>\n",
       "      <td>mafsau</td>\n",
       "    </tr>\n",
       "    <tr>\n",
       "      <th>1</th>\n",
       "      <td>toddler</td>\n",
       "      <td>poor</td>\n",
       "      <td>violence</td>\n",
       "      <td>mrs.</td>\n",
       "      <td>idiot</td>\n",
       "    </tr>\n",
       "    <tr>\n",
       "      <th>2</th>\n",
       "      <td>customer</td>\n",
       "      <td>coloured</td>\n",
       "      <td>banislam</td>\n",
       "      <td>loses</td>\n",
       "      <td>incompetent</td>\n",
       "    </tr>\n",
       "    <tr>\n",
       "      <th>3</th>\n",
       "      <td>horrified</td>\n",
       "      <td>stupid</td>\n",
       "      <td>islam</td>\n",
       "      <td>colour</td>\n",
       "      <td>hypocrite</td>\n",
       "    </tr>\n",
       "    <tr>\n",
       "      <th>4</th>\n",
       "      <td>desperate</td>\n",
       "      <td>idiot</td>\n",
       "      <td>denounces</td>\n",
       "      <td>fitness</td>\n",
       "      <td>vile</td>\n",
       "    </tr>\n",
       "    <tr>\n",
       "      <th>5</th>\n",
       "      <td>edgy</td>\n",
       "      <td>inbred</td>\n",
       "      <td>terrorism</td>\n",
       "      <td>vehicles</td>\n",
       "      <td>utter</td>\n",
       "    </tr>\n",
       "    <tr>\n",
       "      <th>6</th>\n",
       "      <td>embarrassing</td>\n",
       "      <td>disgusting</td>\n",
       "      <td>kavanaugh</td>\n",
       "      <td>grinder</td>\n",
       "      <td>arrogant</td>\n",
       "    </tr>\n",
       "    <tr>\n",
       "      <th>7</th>\n",
       "      <td>unhinged</td>\n",
       "      <td>nazi</td>\n",
       "      <td>others</td>\n",
       "      <td>hires</td>\n",
       "      <td>deluded</td>\n",
       "    </tr>\n",
       "    <tr>\n",
       "      <th>8</th>\n",
       "      <td>deserves</td>\n",
       "      <td>aren</td>\n",
       "      <td>bansharialaw</td>\n",
       "      <td>steven</td>\n",
       "      <td>moron</td>\n",
       "    </tr>\n",
       "    <tr>\n",
       "      <th>9</th>\n",
       "      <td>witch</td>\n",
       "      <td>seriously</td>\n",
       "      <td>linked</td>\n",
       "      <td>fares</td>\n",
       "      <td>prick</td>\n",
       "    </tr>\n",
       "  </tbody>\n",
       "</table>\n",
       "</div>"
      ],
      "text/plain": [
       "      homophobe      racist      religion    sexist      hateful\n",
       "0      informed    ignorant     securi̇ty   builder       mafsau\n",
       "1       toddler        poor      violence      mrs.        idiot\n",
       "2      customer    coloured      banislam     loses  incompetent\n",
       "3     horrified      stupid         islam    colour    hypocrite\n",
       "4     desperate       idiot     denounces   fitness         vile\n",
       "5          edgy      inbred     terrorism  vehicles        utter\n",
       "6  embarrassing  disgusting     kavanaugh   grinder     arrogant\n",
       "7      unhinged        nazi        others     hires      deluded\n",
       "8      deserves        aren  bansharialaw    steven        moron\n",
       "9         witch   seriously        linked     fares        prick"
      ]
     },
     "metadata": {},
     "output_type": "display_data"
    }
   ],
   "source": [
    "cluster_df = display_df(word_clusters)"
   ]
  },
  {
   "cell_type": "code",
   "execution_count": 68,
   "metadata": {},
   "outputs": [
    {
     "name": "stdout",
     "output_type": "stream",
     "text": [
      "Similarity between homophobe and its most similar word in the vocabulary is: 0.9203298687934875.\n",
      "Similarity between racist and its most similar word in the vocabulary is: 0.8958878517150879.\n",
      "Similarity between religion and its most similar word in the vocabulary is: 0.9395592212677002.\n",
      "Similarity between sexist and its most similar word in the vocabulary is: 0.906353235244751.\n",
      "Similarity between hateful and its most similar word in the vocabulary is: 0.9611021876335144.\n"
     ]
    }
   ],
   "source": [
    "# Below we see that our terms are quite similar to their closest words in terms of distance between the embeddings,\n",
    "# however if we check the dataframe above, we wouldn't for instance say 'linked' is too related to 'religion', which implies \n",
    "# that we simply don't have enough data in our dataset to construct good relations among the words.\n",
    "for i in range(len(cluster_df.columns)):\n",
    "    similarity = model.wv.similarity(cluster_df.columns[i], cluster_df.iloc[0, i])\n",
    "    print(f'Similarity between {cluster_df.columns[i]} and its most similar word in the vocabulary is: {similarity}.')"
   ]
  },
  {
   "cell_type": "code",
   "execution_count": 66,
   "metadata": {},
   "outputs": [],
   "source": [
    "def plot_similar_words(title, labels, embedding_clusters, word_clusters, filename=None):\n",
    "    plt.figure(figsize=(16, 9))\n",
    "    colors = cm.rainbow(np.linspace(0, 1, len(labels)))\n",
    "    for label, embeddings, words, color in zip(labels, embedding_clusters, word_clusters, colors):\n",
    "        x = embeddings[:, 0]\n",
    "        y = embeddings[:, 1]\n",
    "        plt.scatter(x, y, color=color, alpha=0.7, label=label)\n",
    "        for i, word in enumerate(words):              \n",
    "            plt.annotate(word, alpha=0.5, xy=(x[i], y[i]), xytext=(5, 2),\n",
    "                         textcoords='offset points', ha='right', va='bottom', size=8)\n",
    "        plt.annotate(label.upper(), alpha=1.0, xy=(mean(x), mean(y)), xytext=(0, 0),\n",
    "            textcoords='offset points', ha='center', va='center', size=15)\n",
    "    plt.legend(loc=4)\n",
    "    plt.title(title)\n",
    "    plt.grid(False)\n",
    "    if filename:\n",
    "        plt.savefig(filename, format='png', dpi=150, bbox_inches='tight')\n",
    "    plt.show()"
   ]
  },
  {
   "cell_type": "code",
   "execution_count": 67,
   "metadata": {},
   "outputs": [],
   "source": [
    "def plotTSNE(title, word_clusters, embedding_clusters, filename = None):\n",
    "    embedding_clusters = np.array(embedding_clusters)\n",
    "    n, m, k = embedding_clusters.shape\n",
    "    # We specify some parameters for the t-SNE (we reduce perplexity and reduce number of iterations)\n",
    "    model_2d = TSNE(perplexity=5, n_components=2, init='pca', n_iter=2000, random_state=32)\n",
    "    model_2d = model_2d.fit_transform(embedding_clusters.reshape(n * m, k))\n",
    "    embeddings_2d = np.array(model_2d).reshape(n, m, 2)\n",
    "    plot_similar_words(title, FIXED_KEYS, embeddings_2d, word_clusters, filename)"
   ]
  },
  {
   "cell_type": "code",
   "execution_count": 71,
   "metadata": {
    "scrolled": false
   },
   "outputs": [
    {
     "data": {
      "image/png": "[encoded data removed]",
      "text/plain": [
       "<Figure size 1152x648 with 1 Axes>"
      ]
     },
     "metadata": {
      "needs_background": "light"
     },
     "output_type": "display_data"
    }
   ],
   "source": [
    "plotTSNE(\"Similar words - Word2Vec [t-SNE]\", word_clusters, embedding_clusters)"
   ]
  },
  {
   "cell_type": "markdown",
   "metadata": {},
   "source": [
    "**In the figure above, we can see that different terms are represented through different clusters of words. However, we also have one mixed cluster, and that's an undesired effect.**"
   ]
  },
  {
   "cell_type": "code",
   "execution_count": null,
   "metadata": {},
   "outputs": [],
   "source": []
  }
 ],
 "metadata": {
  "kernelspec": {
   "display_name": "Python 3",
   "language": "python",
   "name": "python3"
  },
  "language_info": {
   "codemirror_mode": {
    "name": "ipython",
    "version": 3
   },
   "file_extension": ".py",
   "mimetype": "text/x-python",
   "name": "python",
   "nbconvert_exporter": "python",
   "pygments_lexer": "ipython3",
   "version": "3.8.3"
  }
 },
 "nbformat": 4,
 "nbformat_minor": 5
}
